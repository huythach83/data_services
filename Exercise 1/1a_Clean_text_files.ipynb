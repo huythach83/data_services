{
 "cells": [
  {
   "cell_type": "code",
   "execution_count": 1,
   "metadata": {},
   "outputs": [],
   "source": [
    "import re\n",
    "ws = re.compile(r\"\\s\\s+\")"
   ]
  },
  {
   "cell_type": "code",
   "execution_count": 7,
   "metadata": {},
   "outputs": [],
   "source": [
    "filename = 'PostStutrips.txt'\n",
    "newfilename = filename.split('.')[0]+'_processed.csv'\n",
    "\n",
    "with open(filename, 'r') as file:\n",
    "    content = file.read().split('\\n')"
   ]
  },
  {
   "cell_type": "code",
   "execution_count": 8,
   "metadata": {},
   "outputs": [],
   "source": [
    "content = [ws.sub(',', i.strip()) for i in content if (not i.startswith('Edulog')) and (i.find('Pag')==-1) and (i != '')]"
   ]
  },
  {
   "cell_type": "code",
   "execution_count": 9,
   "metadata": {},
   "outputs": [],
   "source": [
    "with open(newfilename, 'w') as file:\n",
    "    file.write('\\n'.join(content))"
   ]
  },
  {
   "cell_type": "markdown",
   "metadata": {},
   "source": [
    "## Challenge\n",
    "\n",
    "We have three files: PreStuTrips.txt and PostStutrips.txt and convert.shp.\n",
    "\n",
    "a. Please import the PreStuTrips.txt and PostStutrips.txt files into a Microsoft SQL server database and find the differences between the PostStutrips.txt and the PreStuTrips.txt\n",
    "\n",
    "b. Please convert the convert.shp file from the negative coordinates\n",
    "“GCS_WGS_1984” to the positive coordinates “NAD_1983_StatePlane_Virginia_South_FIPS_4502_Feet”\n",
    "\n",
    "## Challenge 1a\n",
    "\n",
    "### Solution\n",
    "\n",
    "a. Upon inspecting the source text file (**PreStuTrips.txt** and **PostStutrips.txt**):\n",
    "\n",
    "- Each row has 3 columns, and the columns names have mixed up between ***Student ID*** and ***Edulog ID***\n",
    "- The data might be scrapped from a website with pagination, hence the ***Pag    x*** text\n",
    "- All the data is taken at Apr/13/2020\n",
    "- The columns name appear at the beginning of each page\n",
    "- There's an blank line at the end of each page.\n",
    "- The data of each column is separated by a bunch of space. The same with columns name.\n",
    "\n",
    "Upon further inspection, I knew that the text ***Student ID*** only appears once in the first page. I decided to do the following step:\n",
    "\n",
    "- Remove all the columns name from each page, except the first page.\n",
    "- Replace each instance of multiple spaces (at least 2 spaces) with comma (,)\n",
    "- Remove all the blank line\n",
    "- Remove all the line with date and Page indicator\n",
    "\n",
    "The result will be a *.csv* file that can be use to import into MS SQL database\n",
    "\n",
    "### Tool\n",
    "\n",
    "1a_Clean_text_files.py\n",
    "\n",
    "***Usage***\n",
    "\n",
    "> python 1a_Clean_text_files.py \\<filename\\>\n",
    "\n",
    "After import into MS SQL as 2 tables: ***pre*** for **PreStuTrips.txt** and ***post*** for **PostStutrips.txt**, we can use the following querry to compare 2 tables:\n",
    "\n",
    "```SQL\n",
    "SELECT * FROM pre\n",
    "EXCEPT\n",
    "SELECT * FROM post\n",
    "```\n",
    "\n",
    "The above query compare the difference between ***pre*** and ***post***. There're 48 rows in total\n",
    "\n",
    "And then I reverse the query\n",
    "\n",
    "```SQL\n",
    "SELECT * FROM post\n",
    "EXCEPT\n",
    "SELECT * FROM pre\n",
    "```\n",
    "\n",
    "It will compare the difference between ***post*** and ***pre***. This time there're 6 rows\n",
    "\n",
    "This happened because the number of row of ***pre*** table larger than that of ***post*** by 48 rows, and in ***post***, there're 6 rows that have different values compared to those of ***pre***.\n",
    "\n",
    "### Result\n",
    "\n",
    "Detailed result can be viewed in file **1a_Compare_db_result.md**"
   ]
  }
 ],
 "metadata": {
  "kernelspec": {
   "display_name": "Python 3",
   "language": "python",
   "name": "python3"
  },
  "language_info": {
   "codemirror_mode": {
    "name": "ipython",
    "version": 3
   },
   "file_extension": ".py",
   "mimetype": "text/x-python",
   "name": "python",
   "nbconvert_exporter": "python",
   "pygments_lexer": "ipython3",
   "version": "3.7.7"
  }
 },
 "nbformat": 4,
 "nbformat_minor": 4
}
