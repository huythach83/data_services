{
 "cells": [
  {
   "cell_type": "code",
   "execution_count": 4,
   "metadata": {},
   "outputs": [
    {
     "output_type": "execute_result",
     "data": {
      "text/plain": "   OBJECTID   ID Prefix StreetName StreetType Suffix MapZone AR1From AR1To  \\\n0         1  1.0   None      100TH         AV      E   98371    2401  2605   \n1         2  2.0   None      100TH         AV      E   98371    2701  2915   \n2         3  3.0   None      100TH         AV      E   98371    3001  3019   \n3         4  4.0   None      100TH         AV      E   98371    3101  3129   \n4         5  5.0   None      100TH         AV      E   98371    3201  3325   \n\n  AR2From  ... Direction  _Haz  Art Metro Class  Other Haz Nowalk  Shape_Leng  \\\n0    2402  ...         0     N    Y     N  None   4379   0   0 \\r  636.227209   \n1    2702  ...         0     N    Y     N  None  16672   0   0 \\r  486.124489   \n2    3000  ...         0     N    Y     N  None  17370   0   0 \\r  480.084392   \n3    3100  ...         0     N    Y     N  None  14767   0   0 \\r  326.100445   \n4    3202  ...         0     N    Y     N  None   7699   0   0 \\r  635.964807   \n\n                                            geometry  \n0  LINESTRING (1276879.000 89378.000, 1276862.000...  \n1  LINESTRING (1276866.000 88078.000, 1276855.000...  \n2  LINESTRING (1276855.000 87592.000, 1276846.000...  \n3  LINESTRING (1276846.000 87112.000, 1276839.000...  \n4  LINESTRING (1276822.000 86792.000, 1276803.000...  \n\n[5 rows x 28 columns]",
      "text/html": "<div>\n<style scoped>\n    .dataframe tbody tr th:only-of-type {\n        vertical-align: middle;\n    }\n\n    .dataframe tbody tr th {\n        vertical-align: top;\n    }\n\n    .dataframe thead th {\n        text-align: right;\n    }\n</style>\n<table border=\"1\" class=\"dataframe\">\n  <thead>\n    <tr style=\"text-align: right;\">\n      <th></th>\n      <th>OBJECTID</th>\n      <th>ID</th>\n      <th>Prefix</th>\n      <th>StreetName</th>\n      <th>StreetType</th>\n      <th>Suffix</th>\n      <th>MapZone</th>\n      <th>AR1From</th>\n      <th>AR1To</th>\n      <th>AR2From</th>\n      <th>...</th>\n      <th>Direction</th>\n      <th>_Haz</th>\n      <th>Art</th>\n      <th>Metro</th>\n      <th>Class</th>\n      <th>Other</th>\n      <th>Haz</th>\n      <th>Nowalk</th>\n      <th>Shape_Leng</th>\n      <th>geometry</th>\n    </tr>\n  </thead>\n  <tbody>\n    <tr>\n      <th>0</th>\n      <td>1</td>\n      <td>1.0</td>\n      <td>None</td>\n      <td>100TH</td>\n      <td>AV</td>\n      <td>E</td>\n      <td>98371</td>\n      <td>2401</td>\n      <td>2605</td>\n      <td>2402</td>\n      <td>...</td>\n      <td>0</td>\n      <td>N</td>\n      <td>Y</td>\n      <td>N</td>\n      <td>None</td>\n      <td>4379</td>\n      <td>0</td>\n      <td>0 \\r</td>\n      <td>636.227209</td>\n      <td>LINESTRING (1276879.000 89378.000, 1276862.000...</td>\n    </tr>\n    <tr>\n      <th>1</th>\n      <td>2</td>\n      <td>2.0</td>\n      <td>None</td>\n      <td>100TH</td>\n      <td>AV</td>\n      <td>E</td>\n      <td>98371</td>\n      <td>2701</td>\n      <td>2915</td>\n      <td>2702</td>\n      <td>...</td>\n      <td>0</td>\n      <td>N</td>\n      <td>Y</td>\n      <td>N</td>\n      <td>None</td>\n      <td>16672</td>\n      <td>0</td>\n      <td>0 \\r</td>\n      <td>486.124489</td>\n      <td>LINESTRING (1276866.000 88078.000, 1276855.000...</td>\n    </tr>\n    <tr>\n      <th>2</th>\n      <td>3</td>\n      <td>3.0</td>\n      <td>None</td>\n      <td>100TH</td>\n      <td>AV</td>\n      <td>E</td>\n      <td>98371</td>\n      <td>3001</td>\n      <td>3019</td>\n      <td>3000</td>\n      <td>...</td>\n      <td>0</td>\n      <td>N</td>\n      <td>Y</td>\n      <td>N</td>\n      <td>None</td>\n      <td>17370</td>\n      <td>0</td>\n      <td>0 \\r</td>\n      <td>480.084392</td>\n      <td>LINESTRING (1276855.000 87592.000, 1276846.000...</td>\n    </tr>\n    <tr>\n      <th>3</th>\n      <td>4</td>\n      <td>4.0</td>\n      <td>None</td>\n      <td>100TH</td>\n      <td>AV</td>\n      <td>E</td>\n      <td>98371</td>\n      <td>3101</td>\n      <td>3129</td>\n      <td>3100</td>\n      <td>...</td>\n      <td>0</td>\n      <td>N</td>\n      <td>Y</td>\n      <td>N</td>\n      <td>None</td>\n      <td>14767</td>\n      <td>0</td>\n      <td>0 \\r</td>\n      <td>326.100445</td>\n      <td>LINESTRING (1276846.000 87112.000, 1276839.000...</td>\n    </tr>\n    <tr>\n      <th>4</th>\n      <td>5</td>\n      <td>5.0</td>\n      <td>None</td>\n      <td>100TH</td>\n      <td>AV</td>\n      <td>E</td>\n      <td>98371</td>\n      <td>3201</td>\n      <td>3325</td>\n      <td>3202</td>\n      <td>...</td>\n      <td>0</td>\n      <td>N</td>\n      <td>Y</td>\n      <td>N</td>\n      <td>None</td>\n      <td>7699</td>\n      <td>0</td>\n      <td>0 \\r</td>\n      <td>635.964807</td>\n      <td>LINESTRING (1276822.000 86792.000, 1276803.000...</td>\n    </tr>\n  </tbody>\n</table>\n<p>5 rows × 28 columns</p>\n</div>"
     },
     "metadata": {},
     "execution_count": 4
    }
   ],
   "source": [
    "import geopandas as gpd\n",
    "import pandas as pd\n",
    "\n",
    "df = gpd.read_file('Pierce_ShpFrmGeo_Projected.shp')\n",
    "df.head()"
   ]
  },
  {
   "cell_type": "code",
   "execution_count": 16,
   "metadata": {},
   "outputs": [],
   "source": [
    "res = []\n",
    "for idx, row in df.iterrows():\n",
    "    for coord in row['geometry'].coords:\n",
    "        res.append([row['OBJECTID'], *coord])"
   ]
  },
  {
   "cell_type": "code",
   "execution_count": 17,
   "metadata": {},
   "outputs": [
    {
     "output_type": "execute_result",
     "data": {
      "text/plain": "[[1, 1276879.0001351386, 89377.99998900294],\n [1, 1276861.9998410493, 88741.99994845688],\n [2, 1276866.0001611412, 88077.99996389449],\n [2, 1276854.9998550564, 87591.99995148182],\n [3, 1276854.9998550564, 87591.99995148182],\n [3, 1276845.999873057, 87111.99992707372],\n [4, 1276845.999873057, 87111.99992707372],\n [4, 1276838.9998870492, 86812.99986881018],\n [4, 1276821.9999210387, 86791.99991080165],\n [5, 1276821.9999210387, 86791.99991080165],\n [5, 1276802.9999590367, 86785.99992279708],\n [5, 1276793.9999770373, 86772.99994879961],\n [5, 1276790.9999830276, 86618.99992865324],\n [5, 1276784.999995038, 86225.0000603646],\n [5, 1276781.000003025, 86172.99983626604],\n [6, 1208660.000067696, 74334.99988630414],\n [6, 1208591.9998755902, 74367.00015039742],\n [6, 1208557.9999435693, 74381.00012239814],\n [6, 1208528.0000035614, 74388.00010840595],\n [6, 1208510.0000395626, 74390.00010441244]]"
     },
     "metadata": {},
     "execution_count": 17
    }
   ],
   "source": [
    "res[0:20]"
   ]
  },
  {
   "cell_type": "code",
   "execution_count": 3,
   "metadata": {},
   "outputs": [],
   "source": [
    "r = pd.DataFrame(res)"
   ]
  },
  {
   "cell_type": "code",
   "execution_count": 4,
   "metadata": {},
   "outputs": [],
   "source": [
    "r.to_csv('res.csv', index=False, header=False)"
   ]
  },
  {
   "cell_type": "code",
   "execution_count": 7,
   "metadata": {},
   "outputs": [
    {
     "name": "stdout",
     "output_type": "stream",
     "text": [
      "LINESTRING (1269988.000135347 90865.99996624887, 1270014.000083357 90853.99999023974, 1270041.000029355 90841.00001624227, 1270057.999995366 90834.00003023446, 1270085.999939382 90824.00005023181, 1270112.99988538 90816.00006622076, 1270134.999841392 90810.0000782311, 1270161.000117481 90804.00009022653, 1270183.000073493 90800.00009822845, 1270212.000015497 90794.00011022389, 1270238.99996151 90793.00011222064, 1270278.999881521 90790.00011822581, 1270381.000005648 90791.00011621416)\n"
     ]
    }
   ],
   "source": [
    "print(df['geometry'][20651])"
   ]
  }
 ],
 "metadata": {
  "kernelspec": {
   "display_name": "Python 3.7.7 64-bit ('geo': venv)",
   "language": "python",
   "name": "python37764bitgeovenv88ccb6cd5f9a4cde86cdce6570d6074c"
  },
  "language_info": {
   "codemirror_mode": {
    "name": "ipython",
    "version": 3
   },
   "file_extension": ".py",
   "mimetype": "text/x-python",
   "name": "python",
   "nbconvert_exporter": "python",
   "pygments_lexer": "ipython3",
   "version": "3.7.7-final"
  }
 },
 "nbformat": 4,
 "nbformat_minor": 4
}